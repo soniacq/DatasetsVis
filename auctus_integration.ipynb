{
 "cells": [
  {
   "cell_type": "markdown",
   "metadata": {},
   "source": [
    "## Integration with Auctus"
   ]
  },
  {
   "cell_type": "markdown",
   "metadata": {},
   "source": [
    "First, import the class `AutoML`, as well as additional libraries that might be used. If you plan to use AlphaD3m via Docker/Singularity, use:\n",
    "`DockerAutoML` or `SingularityAutoML` classes."
   ]
  },
  {
   "cell_type": "code",
   "execution_count": 1,
   "metadata": {},
   "outputs": [
    {
     "ename": "ModuleNotFoundError",
     "evalue": "No module named 'alphad3m'",
     "output_type": "error",
     "traceback": [
      "\u001b[0;31m---------------------------------------------------------------------------\u001b[0m",
      "\u001b[0;31mModuleNotFoundError\u001b[0m                       Traceback (most recent call last)",
      "\u001b[0;32m<ipython-input-1-fb08c4cabd04>\u001b[0m in \u001b[0;36m<module>\u001b[0;34m\u001b[0m\n\u001b[0;32m----> 1\u001b[0;31m \u001b[0;32mfrom\u001b[0m \u001b[0malphad3m\u001b[0m \u001b[0;32mimport\u001b[0m \u001b[0mAutoML\u001b[0m\u001b[0;34m\u001b[0m\u001b[0;34m\u001b[0m\u001b[0m\n\u001b[0m\u001b[1;32m      2\u001b[0m \u001b[0;31m# from alphad3m_containers import DockerAutoML/SingularityAutoML as AutoML\u001b[0m\u001b[0;34m\u001b[0m\u001b[0;34m\u001b[0m\u001b[0;34m\u001b[0m\u001b[0m\n\u001b[1;32m      3\u001b[0m \u001b[0;32mfrom\u001b[0m \u001b[0mio\u001b[0m \u001b[0;32mimport\u001b[0m \u001b[0mBytesIO\u001b[0m\u001b[0;34m\u001b[0m\u001b[0;34m\u001b[0m\u001b[0m\n\u001b[1;32m      4\u001b[0m \u001b[0;32mimport\u001b[0m \u001b[0mrequests\u001b[0m\u001b[0;34m\u001b[0m\u001b[0;34m\u001b[0m\u001b[0m\n\u001b[1;32m      5\u001b[0m \u001b[0;32mimport\u001b[0m \u001b[0mpandas\u001b[0m\u001b[0;34m\u001b[0m\u001b[0;34m\u001b[0m\u001b[0m\n",
      "\u001b[0;31mModuleNotFoundError\u001b[0m: No module named 'alphad3m'"
     ]
    }
   ],
   "source": [
    "from alphad3m import AutoML\n",
    "# from alphad3m_containers import DockerAutoML/SingularityAutoML as AutoML\n",
    "from io import BytesIO\n",
    "import requests\n",
    "import pandas\n",
    "import json\n",
    "import zipfile"
   ]
  },
  {
   "cell_type": "markdown",
   "metadata": {},
   "source": [
    "### Generating pipelines"
   ]
  },
  {
   "cell_type": "markdown",
   "metadata": {},
   "source": [
    "In this example, we are generating pipelines for CSV datasets. The [PHEM dataset](https://gitlab.com/ViDA-NYU/d3m/alphad3m/-/tree/devel/examples/datasets) is used for this example. This data is provided by Ethiopian Public Health Institute (PHEM). It contains reported cases of malnutrition at the level of Woreda."
   ]
  },
  {
   "cell_type": "code",
   "execution_count": null,
   "metadata": {},
   "outputs": [],
   "source": [
    "output_path = 'tmp/'\n",
    "train_dataset = 'datasets/PHEM/train_data.csv'\n",
    "\n",
    "automl = AutoML(output_path)\n",
    "automl.plot_summary_dataset(train_dataset)"
   ]
  },
  {
   "cell_type": "code",
   "execution_count": 3,
   "metadata": {},
   "outputs": [
    {
     "name": "stdout",
     "output_type": "stream",
     "text": [
      "WARNING: Metric not defined, using: rootMeanSquaredError\n",
      "INFO: Initializing AlphaD3M AutoML...\n",
      "INFO: Creating Docker container automl-container-57437...\n",
      "INFO: Connecting via gRPC to localhost:57437...\n",
      "INFO: AlphaD3M AutoML initialized!\n",
      "INFO: Found pipeline id=a1b793c8-cc6a-46f2-9e8f-6d1871f07cf0, time=0:00:46.867823, scoring...\n",
      "INFO: Found pipeline id=ddb0ddac-da84-40e8-93ec-e17d0b466989, time=0:00:59.579115, scoring...\n",
      "INFO: Found pipeline id=ac1829b1-d646-42bb-b9c6-2327f858fb83, time=0:01:09.562032, scoring...\n",
      "INFO: Found pipeline id=304c141d-2c2c-4bfe-9ff7-4f18cac790d9, time=0:01:11.814985, scoring...\n",
      "INFO: Found pipeline id=8bfb0119-2726-441e-8f81-34254ec54560, time=0:01:14.227199, scoring...\n",
      "INFO: Found pipeline id=c4196b62-f5d1-43c7-944e-4b9b79494676, time=0:01:20.966919, scoring...\n",
      "INFO: Scored pipeline id=a1b793c8-cc6a-46f2-9e8f-6d1871f07cf0, root_mean_squared_error=6.67721\n",
      "INFO: Scored pipeline id=ddb0ddac-da84-40e8-93ec-e17d0b466989, root_mean_squared_error=6.75922\n",
      "INFO: Scored pipeline id=8bfb0119-2726-441e-8f81-34254ec54560, root_mean_squared_error=11.45735\n",
      "INFO: Scored pipeline id=304c141d-2c2c-4bfe-9ff7-4f18cac790d9, root_mean_squared_error=7.42282\n",
      "INFO: Scored pipeline id=ac1829b1-d646-42bb-b9c6-2327f858fb83, root_mean_squared_error=7.44027\n",
      "INFO: Scored pipeline id=c4196b62-f5d1-43c7-944e-4b9b79494676, root_mean_squared_error=9.14601\n",
      "INFO: Found pipeline id=62b148a7-f9a1-412a-8336-80d8764e591f, time=0:02:42.825614, scoring...\n",
      "INFO: Found pipeline id=1cecaebf-6cb9-4fd1-b938-c953e9c162cd, time=0:03:40.090076, scoring...\n",
      "INFO: Scored pipeline id=1cecaebf-6cb9-4fd1-b938-c953e9c162cd, root_mean_squared_error=21.26094\n",
      "INFO: Scored pipeline id=62b148a7-f9a1-412a-8336-80d8764e591f, root_mean_squared_error=8.93822\n",
      "INFO: Found pipeline id=c56b0834-5c15-4690-b6bc-ca69f47151ae, time=0:04:28.635652, scoring...\n",
      "INFO: Found pipeline id=c48efe0f-da64-49e8-acde-37570a88a0a6, time=0:04:46.828692, scoring...\n",
      "INFO: Scored pipeline id=c56b0834-5c15-4690-b6bc-ca69f47151ae, root_mean_squared_error=85.925\n",
      "INFO: Scored pipeline id=c48efe0f-da64-49e8-acde-37570a88a0a6, root_mean_squared_error=51.74707\n",
      "INFO: Search completed, still scoring some pending pipelines...\n",
      "INFO: Scoring completed for all pipelines!\n"
     ]
    }
   ],
   "source": [
    "automl.search_pipelines(train_dataset, time_bound=5, target='Malnutrition_total Cases', task_keywords=['regression'])"
   ]
  },
  {
   "cell_type": "markdown",
   "metadata": {},
   "source": [
    "### Searching for datasets with Auctus"
   ]
  },
  {
   "cell_type": "code",
   "execution_count": 4,
   "metadata": {
    "scrolled": true
   },
   "outputs": [],
   "source": [
    "def print_results(results):\n",
    "    if not results:\n",
    "        return\n",
    "    for result in results:\n",
    "        print(result['metadata']['name'])\n",
    "        print('Score: ', result['score'])\n",
    "        if 'augmentation' in result:\n",
    "            aug_type = result['augmentation']['type']\n",
    "            print('Augmentation: %s' % aug_type)\n",
    "            print(\"Left Columns: %s\" %\n",
    "                  str(result['augmentation']['left_columns_names']))\n",
    "            print(\"Right Columns: %s\" %\n",
    "                  str(result['augmentation']['right_columns_names']))\n",
    "            \n",
    "        print(\"-------------------\\n\")"
   ]
  },
  {
   "cell_type": "code",
   "execution_count": 2,
   "metadata": {},
   "outputs": [
    {
     "ename": "NameError",
     "evalue": "name 'train_dataset' is not defined",
     "output_type": "error",
     "traceback": [
      "\u001b[0;31m---------------------------------------------------------------------------\u001b[0m",
      "\u001b[0;31mNameError\u001b[0m                                 Traceback (most recent call last)",
      "\u001b[0;32m<ipython-input-2-7b143c7f6594>\u001b[0m in \u001b[0;36m<module>\u001b[0;34m\u001b[0m\n\u001b[1;32m      4\u001b[0m }\n\u001b[1;32m      5\u001b[0m \u001b[0;34m\u001b[0m\u001b[0m\n\u001b[0;32m----> 6\u001b[0;31m \u001b[0;32mwith\u001b[0m \u001b[0mopen\u001b[0m\u001b[0;34m(\u001b[0m\u001b[0mtrain_dataset\u001b[0m\u001b[0;34m,\u001b[0m \u001b[0;34m'rb'\u001b[0m\u001b[0;34m)\u001b[0m \u001b[0;32mas\u001b[0m \u001b[0mdata\u001b[0m\u001b[0;34m:\u001b[0m\u001b[0;34m\u001b[0m\u001b[0;34m\u001b[0m\u001b[0m\n\u001b[0m\u001b[1;32m      7\u001b[0m     response = requests.post(\n\u001b[1;32m      8\u001b[0m         \u001b[0murl\u001b[0m\u001b[0;34m,\u001b[0m\u001b[0;34m\u001b[0m\u001b[0;34m\u001b[0m\u001b[0m\n",
      "\u001b[0;31mNameError\u001b[0m: name 'train_dataset' is not defined"
     ]
    }
   ],
   "source": [
    "url = 'https://auctus.vida-nyu.org/api/v1/search'\n",
    "query = {\n",
    "    'keywords': ['weather']\n",
    "}\n",
    "\n",
    "with open(train_dataset, 'rb') as data:\n",
    "    response = requests.post(\n",
    "        url,\n",
    "        files={\n",
    "            'data': data,\n",
    "            'query': ('query.json', json.dumps(query), 'application/json'),\n",
    "        }\n",
    "    )\n",
    "if response.status_code == 400:\n",
    "    try:\n",
    "        print('Error: %s' % response.json()['error'])\n",
    "    except (KeyError, ValueError):\n",
    "        pass\n",
    "response.raise_for_status()\n",
    "query_results = response.json()['results']\n",
    "print_results(query_results)"
   ]
  },
  {
   "cell_type": "code",
   "execution_count": 14,
   "metadata": {},
   "outputs": [],
   "source": [
    "index_to_use = 3 # This should be indicated by the user. Choose \"Weather Data for Oromia, Ethiopia\" dataset"
   ]
  },
  {
   "cell_type": "markdown",
   "metadata": {},
   "source": [
    "### Downloading a Dataset"
   ]
  },
  {
   "cell_type": "code",
   "execution_count": 15,
   "metadata": {},
   "outputs": [
    {
     "data": {
      "text/html": [
       "<div>\n",
       "<style scoped>\n",
       "    .dataframe tbody tr th:only-of-type {\n",
       "        vertical-align: middle;\n",
       "    }\n",
       "\n",
       "    .dataframe tbody tr th {\n",
       "        vertical-align: top;\n",
       "    }\n",
       "\n",
       "    .dataframe thead th {\n",
       "        text-align: right;\n",
       "    }\n",
       "</style>\n",
       "<table border=\"1\" class=\"dataframe\">\n",
       "  <thead>\n",
       "    <tr style=\"text-align: right;\">\n",
       "      <th></th>\n",
       "      <th>date_time</th>\n",
       "      <th>wind_dir</th>\n",
       "      <th>wind_speed</th>\n",
       "      <th>visibility</th>\n",
       "      <th>temperature</th>\n",
       "      <th>air_pressure</th>\n",
       "      <th>precipitation</th>\n",
       "    </tr>\n",
       "  </thead>\n",
       "  <tbody>\n",
       "    <tr>\n",
       "      <th>0</th>\n",
       "      <td>2009-12-28</td>\n",
       "      <td>186.533333</td>\n",
       "      <td>1.747573</td>\n",
       "      <td>23963.809524</td>\n",
       "      <td>19.860606</td>\n",
       "      <td>1014.888889</td>\n",
       "      <td>11.050000</td>\n",
       "    </tr>\n",
       "    <tr>\n",
       "      <th>1</th>\n",
       "      <td>2010-01-04</td>\n",
       "      <td>197.232143</td>\n",
       "      <td>1.556180</td>\n",
       "      <td>24493.513514</td>\n",
       "      <td>19.887079</td>\n",
       "      <td>1014.413846</td>\n",
       "      <td>NaN</td>\n",
       "    </tr>\n",
       "    <tr>\n",
       "      <th>2</th>\n",
       "      <td>2010-01-11</td>\n",
       "      <td>172.769231</td>\n",
       "      <td>1.756477</td>\n",
       "      <td>23966.336634</td>\n",
       "      <td>19.951579</td>\n",
       "      <td>1016.488136</td>\n",
       "      <td>NaN</td>\n",
       "    </tr>\n",
       "    <tr>\n",
       "      <th>3</th>\n",
       "      <td>2010-01-18</td>\n",
       "      <td>168.333333</td>\n",
       "      <td>2.571429</td>\n",
       "      <td>27142.857143</td>\n",
       "      <td>27.200000</td>\n",
       "      <td>1011.200000</td>\n",
       "      <td>NaN</td>\n",
       "    </tr>\n",
       "    <tr>\n",
       "      <th>4</th>\n",
       "      <td>2010-01-25</td>\n",
       "      <td>166.052632</td>\n",
       "      <td>2.536842</td>\n",
       "      <td>24858.000000</td>\n",
       "      <td>22.061053</td>\n",
       "      <td>1014.450000</td>\n",
       "      <td>3.000000</td>\n",
       "    </tr>\n",
       "    <tr>\n",
       "      <th>...</th>\n",
       "      <td>...</td>\n",
       "      <td>...</td>\n",
       "      <td>...</td>\n",
       "      <td>...</td>\n",
       "      <td>...</td>\n",
       "      <td>...</td>\n",
       "      <td>...</td>\n",
       "    </tr>\n",
       "    <tr>\n",
       "      <th>467</th>\n",
       "      <td>2019-09-30</td>\n",
       "      <td>164.557823</td>\n",
       "      <td>2.360544</td>\n",
       "      <td>24097.560976</td>\n",
       "      <td>19.067317</td>\n",
       "      <td>1017.753846</td>\n",
       "      <td>12.765625</td>\n",
       "    </tr>\n",
       "    <tr>\n",
       "      <th>468</th>\n",
       "      <td>2019-10-07</td>\n",
       "      <td>151.896552</td>\n",
       "      <td>2.491379</td>\n",
       "      <td>23376.300578</td>\n",
       "      <td>19.180347</td>\n",
       "      <td>1016.910127</td>\n",
       "      <td>7.280952</td>\n",
       "    </tr>\n",
       "    <tr>\n",
       "      <th>469</th>\n",
       "      <td>2019-10-14</td>\n",
       "      <td>137.559055</td>\n",
       "      <td>2.685039</td>\n",
       "      <td>25774.345550</td>\n",
       "      <td>20.099476</td>\n",
       "      <td>1018.671084</td>\n",
       "      <td>7.400000</td>\n",
       "    </tr>\n",
       "    <tr>\n",
       "      <th>470</th>\n",
       "      <td>2019-10-21</td>\n",
       "      <td>173.852459</td>\n",
       "      <td>2.565574</td>\n",
       "      <td>24414.634146</td>\n",
       "      <td>21.063415</td>\n",
       "      <td>1018.568750</td>\n",
       "      <td>4.550000</td>\n",
       "    </tr>\n",
       "    <tr>\n",
       "      <th>471</th>\n",
       "      <td>2019-10-28</td>\n",
       "      <td>162.553191</td>\n",
       "      <td>2.446809</td>\n",
       "      <td>24850.000000</td>\n",
       "      <td>19.572973</td>\n",
       "      <td>1017.945455</td>\n",
       "      <td>2.000000</td>\n",
       "    </tr>\n",
       "  </tbody>\n",
       "</table>\n",
       "<p>472 rows × 7 columns</p>\n",
       "</div>"
      ],
      "text/plain": [
       "      date_time    wind_dir  wind_speed    visibility  temperature  \\\n",
       "0    2009-12-28  186.533333    1.747573  23963.809524    19.860606   \n",
       "1    2010-01-04  197.232143    1.556180  24493.513514    19.887079   \n",
       "2    2010-01-11  172.769231    1.756477  23966.336634    19.951579   \n",
       "3    2010-01-18  168.333333    2.571429  27142.857143    27.200000   \n",
       "4    2010-01-25  166.052632    2.536842  24858.000000    22.061053   \n",
       "..          ...         ...         ...           ...          ...   \n",
       "467  2019-09-30  164.557823    2.360544  24097.560976    19.067317   \n",
       "468  2019-10-07  151.896552    2.491379  23376.300578    19.180347   \n",
       "469  2019-10-14  137.559055    2.685039  25774.345550    20.099476   \n",
       "470  2019-10-21  173.852459    2.565574  24414.634146    21.063415   \n",
       "471  2019-10-28  162.553191    2.446809  24850.000000    19.572973   \n",
       "\n",
       "     air_pressure  precipitation  \n",
       "0     1014.888889      11.050000  \n",
       "1     1014.413846            NaN  \n",
       "2     1016.488136            NaN  \n",
       "3     1011.200000            NaN  \n",
       "4     1014.450000       3.000000  \n",
       "..            ...            ...  \n",
       "467   1017.753846      12.765625  \n",
       "468   1016.910127       7.280952  \n",
       "469   1018.671084       7.400000  \n",
       "470   1018.568750       4.550000  \n",
       "471   1017.945455       2.000000  \n",
       "\n",
       "[472 rows x 7 columns]"
      ]
     },
     "metadata": {},
     "output_type": "display_data"
    }
   ],
   "source": [
    "dataset_id = query_results[index_to_use]['id']\n",
    "response = requests.get('https://auctus.vida-nyu.org/api/v1/download/' + dataset_id)\n",
    "response.raise_for_status()\n",
    "new_dataset = pandas.read_csv(BytesIO(response.content))\n",
    "display(new_dataset)"
   ]
  },
  {
   "cell_type": "markdown",
   "metadata": {},
   "source": [
    "### Augmenting a Dataset"
   ]
  },
  {
   "cell_type": "code",
   "execution_count": 16,
   "metadata": {},
   "outputs": [
    {
     "data": {
      "text/html": [
       "<div>\n",
       "<style scoped>\n",
       "    .dataframe tbody tr th:only-of-type {\n",
       "        vertical-align: middle;\n",
       "    }\n",
       "\n",
       "    .dataframe tbody tr th {\n",
       "        vertical-align: top;\n",
       "    }\n",
       "\n",
       "    .dataframe thead th {\n",
       "        text-align: right;\n",
       "    }\n",
       "</style>\n",
       "<table border=\"1\" class=\"dataframe\">\n",
       "  <thead>\n",
       "    <tr style=\"text-align: right;\">\n",
       "      <th></th>\n",
       "      <th>Week_date_time</th>\n",
       "      <th>Week_date_time_woreda</th>\n",
       "      <th>RegionName</th>\n",
       "      <th>ZoneName</th>\n",
       "      <th>WoredaName</th>\n",
       "      <th>Total Malaria Confirmed and Clinical</th>\n",
       "      <th>TMalaria_OutP_Cases</th>\n",
       "      <th>TMalaria_InP_Cases</th>\n",
       "      <th>TMalaria_InP_Deaths</th>\n",
       "      <th>TMSuspected Fever Examined</th>\n",
       "      <th>...</th>\n",
       "      <th>max temperature</th>\n",
       "      <th>min temperature</th>\n",
       "      <th>mean air_pressure</th>\n",
       "      <th>sum air_pressure</th>\n",
       "      <th>max air_pressure</th>\n",
       "      <th>min air_pressure</th>\n",
       "      <th>mean precipitation</th>\n",
       "      <th>sum precipitation</th>\n",
       "      <th>max precipitation</th>\n",
       "      <th>min precipitation</th>\n",
       "    </tr>\n",
       "  </thead>\n",
       "  <tbody>\n",
       "    <tr>\n",
       "      <th>0</th>\n",
       "      <td>2017-01-02</td>\n",
       "      <td>2017-01-02_North Shewa_Hidabu Abote</td>\n",
       "      <td>Oromia</td>\n",
       "      <td>North Shewa</td>\n",
       "      <td>Hidabu Abote</td>\n",
       "      <td>7</td>\n",
       "      <td>7.0</td>\n",
       "      <td>0.0</td>\n",
       "      <td>0.0</td>\n",
       "      <td>27.0</td>\n",
       "      <td>...</td>\n",
       "      <td>19.563514</td>\n",
       "      <td>19.563514</td>\n",
       "      <td>1017.787156</td>\n",
       "      <td>1017.787156</td>\n",
       "      <td>1017.787156</td>\n",
       "      <td>1017.787156</td>\n",
       "      <td>NaN</td>\n",
       "      <td>NaN</td>\n",
       "      <td>NaN</td>\n",
       "      <td>NaN</td>\n",
       "    </tr>\n",
       "    <tr>\n",
       "      <th>1</th>\n",
       "      <td>2017-01-02</td>\n",
       "      <td>2017-01-02_Qeleme Wellega_Dambi Dolo Hospital</td>\n",
       "      <td>Oromia</td>\n",
       "      <td>Qeleme Wellega</td>\n",
       "      <td>Dambi Dolo Hospital</td>\n",
       "      <td>4</td>\n",
       "      <td>3.0</td>\n",
       "      <td>1.0</td>\n",
       "      <td>0.0</td>\n",
       "      <td>161.0</td>\n",
       "      <td>...</td>\n",
       "      <td>19.563514</td>\n",
       "      <td>19.563514</td>\n",
       "      <td>1017.787156</td>\n",
       "      <td>1017.787156</td>\n",
       "      <td>1017.787156</td>\n",
       "      <td>1017.787156</td>\n",
       "      <td>NaN</td>\n",
       "      <td>NaN</td>\n",
       "      <td>NaN</td>\n",
       "      <td>NaN</td>\n",
       "    </tr>\n",
       "    <tr>\n",
       "      <th>2</th>\n",
       "      <td>2017-01-02</td>\n",
       "      <td>2017-01-02_Buno Bedele_Boricha</td>\n",
       "      <td>Oromia</td>\n",
       "      <td>Buno Bedele</td>\n",
       "      <td>Boricha</td>\n",
       "      <td>3</td>\n",
       "      <td>3.0</td>\n",
       "      <td>0.0</td>\n",
       "      <td>0.0</td>\n",
       "      <td>12.0</td>\n",
       "      <td>...</td>\n",
       "      <td>19.563514</td>\n",
       "      <td>19.563514</td>\n",
       "      <td>1017.787156</td>\n",
       "      <td>1017.787156</td>\n",
       "      <td>1017.787156</td>\n",
       "      <td>1017.787156</td>\n",
       "      <td>NaN</td>\n",
       "      <td>NaN</td>\n",
       "      <td>NaN</td>\n",
       "      <td>NaN</td>\n",
       "    </tr>\n",
       "    <tr>\n",
       "      <th>3</th>\n",
       "      <td>2017-01-02</td>\n",
       "      <td>2017-01-02_Jimma_Gera</td>\n",
       "      <td>Oromia</td>\n",
       "      <td>Jimma</td>\n",
       "      <td>Gera</td>\n",
       "      <td>1</td>\n",
       "      <td>1.0</td>\n",
       "      <td>0.0</td>\n",
       "      <td>0.0</td>\n",
       "      <td>41.0</td>\n",
       "      <td>...</td>\n",
       "      <td>19.563514</td>\n",
       "      <td>19.563514</td>\n",
       "      <td>1017.787156</td>\n",
       "      <td>1017.787156</td>\n",
       "      <td>1017.787156</td>\n",
       "      <td>1017.787156</td>\n",
       "      <td>NaN</td>\n",
       "      <td>NaN</td>\n",
       "      <td>NaN</td>\n",
       "      <td>NaN</td>\n",
       "    </tr>\n",
       "    <tr>\n",
       "      <th>4</th>\n",
       "      <td>2017-01-02</td>\n",
       "      <td>2017-01-02_Arsi_Gololcha</td>\n",
       "      <td>Oromia</td>\n",
       "      <td>Arsi</td>\n",
       "      <td>Gololcha</td>\n",
       "      <td>11</td>\n",
       "      <td>11.0</td>\n",
       "      <td>0.0</td>\n",
       "      <td>0.0</td>\n",
       "      <td>31.0</td>\n",
       "      <td>...</td>\n",
       "      <td>19.563514</td>\n",
       "      <td>19.563514</td>\n",
       "      <td>1017.787156</td>\n",
       "      <td>1017.787156</td>\n",
       "      <td>1017.787156</td>\n",
       "      <td>1017.787156</td>\n",
       "      <td>NaN</td>\n",
       "      <td>NaN</td>\n",
       "      <td>NaN</td>\n",
       "      <td>NaN</td>\n",
       "    </tr>\n",
       "  </tbody>\n",
       "</table>\n",
       "<p>5 rows × 88 columns</p>\n",
       "</div>"
      ],
      "text/plain": [
       "  Week_date_time                          Week_date_time_woreda RegionName  \\\n",
       "0     2017-01-02            2017-01-02_North Shewa_Hidabu Abote     Oromia   \n",
       "1     2017-01-02  2017-01-02_Qeleme Wellega_Dambi Dolo Hospital     Oromia   \n",
       "2     2017-01-02                 2017-01-02_Buno Bedele_Boricha     Oromia   \n",
       "3     2017-01-02                          2017-01-02_Jimma_Gera     Oromia   \n",
       "4     2017-01-02                       2017-01-02_Arsi_Gololcha     Oromia   \n",
       "\n",
       "         ZoneName           WoredaName  Total Malaria Confirmed and Clinical  \\\n",
       "0     North Shewa         Hidabu Abote                                     7   \n",
       "1  Qeleme Wellega  Dambi Dolo Hospital                                     4   \n",
       "2     Buno Bedele              Boricha                                     3   \n",
       "3           Jimma                 Gera                                     1   \n",
       "4            Arsi             Gololcha                                    11   \n",
       "\n",
       "   TMalaria_OutP_Cases  TMalaria_InP_Cases  TMalaria_InP_Deaths  \\\n",
       "0                  7.0                 0.0                  0.0   \n",
       "1                  3.0                 1.0                  0.0   \n",
       "2                  3.0                 0.0                  0.0   \n",
       "3                  1.0                 0.0                  0.0   \n",
       "4                 11.0                 0.0                  0.0   \n",
       "\n",
       "   TMSuspected Fever Examined  ...  max temperature  min temperature  \\\n",
       "0                        27.0  ...        19.563514        19.563514   \n",
       "1                       161.0  ...        19.563514        19.563514   \n",
       "2                        12.0  ...        19.563514        19.563514   \n",
       "3                        41.0  ...        19.563514        19.563514   \n",
       "4                        31.0  ...        19.563514        19.563514   \n",
       "\n",
       "   mean air_pressure  sum air_pressure  max air_pressure  min air_pressure  \\\n",
       "0        1017.787156       1017.787156       1017.787156       1017.787156   \n",
       "1        1017.787156       1017.787156       1017.787156       1017.787156   \n",
       "2        1017.787156       1017.787156       1017.787156       1017.787156   \n",
       "3        1017.787156       1017.787156       1017.787156       1017.787156   \n",
       "4        1017.787156       1017.787156       1017.787156       1017.787156   \n",
       "\n",
       "   mean precipitation  sum precipitation  max precipitation  min precipitation  \n",
       "0                 NaN                NaN                NaN                NaN  \n",
       "1                 NaN                NaN                NaN                NaN  \n",
       "2                 NaN                NaN                NaN                NaN  \n",
       "3                 NaN                NaN                NaN                NaN  \n",
       "4                 NaN                NaN                NaN                NaN  \n",
       "\n",
       "[5 rows x 88 columns]"
      ]
     },
     "execution_count": 16,
     "metadata": {},
     "output_type": "execute_result"
    }
   ],
   "source": [
    "url = 'https://auctus.vida-nyu.org/api/v1/augment'\n",
    "task = query_results[index_to_use]\n",
    "\n",
    "with open(train_dataset, 'rb') as data:\n",
    "    response = requests.post(\n",
    "        url,\n",
    "        files={\n",
    "            'data': data,\n",
    "            'task': ('task.json', json.dumps(task), 'application/json'),\n",
    "        },\n",
    "        stream=True,\n",
    "    )\n",
    "if response.status_code == 400:\n",
    "    try:\n",
    "        print('Error: %s' % response.json()['error'])\n",
    "    except (KeyError, ValueError):\n",
    "        pass\n",
    "response.raise_for_status()\n",
    "zip_ = zipfile.ZipFile(BytesIO(response.content), 'r')\n",
    "learning_data = pandas.read_csv(zip_.open('tables/learningData.csv'))\n",
    "dataset_doc = json.load(zip_.open('datasetDoc.json'))\n",
    "zip_.close()\n",
    "augmented_dataset = 'datasets/PHEM/train_data_augmented.csv'\n",
    "\n",
    "learning_data.to_csv(augmented_dataset, index=False)\n",
    "learning_data.head()"
   ]
  },
  {
   "cell_type": "markdown",
   "metadata": {
    "scrolled": false
   },
   "source": [
    "### Generating pipelines with augmented dataset"
   ]
  },
  {
   "cell_type": "code",
   "execution_count": 17,
   "metadata": {},
   "outputs": [
    {
     "name": "stdout",
     "output_type": "stream",
     "text": [
      "WARNING: Metric not defined, using: rootMeanSquaredError\n",
      "INFO: Initializing AlphaD3M AutoML...\n",
      "INFO: Creating Docker container automl-container-63038...\n",
      "INFO: Connecting via gRPC to localhost:63038...\n",
      "INFO: AlphaD3M AutoML initialized!\n",
      "INFO: Found pipeline id=10b94779-2830-426c-9fc7-188f6c7a5825, time=0:00:51.006853, scoring...\n",
      "INFO: Found pipeline id=48bf726f-7ecd-48c1-a102-5258a19f6e43, time=0:01:00.753065, scoring...\n",
      "INFO: Found pipeline id=49f52617-3e52-4519-b451-557edbf42d2a, time=0:01:13.817289, scoring...\n",
      "INFO: Found pipeline id=67b56577-5e85-4979-9f2b-6e8a2943cfd5, time=0:01:17.350129, scoring...\n",
      "INFO: Found pipeline id=71502d01-6edb-401b-ae43-b918777691ec, time=0:01:19.947414, scoring...\n",
      "INFO: Found pipeline id=ec1253fe-7c4c-4f9f-ad4b-b3503f4a74be, time=0:01:25.073955, scoring...\n",
      "INFO: Scored pipeline id=10b94779-2830-426c-9fc7-188f6c7a5825, root_mean_squared_error=6.96094\n",
      "INFO: Scored pipeline id=48bf726f-7ecd-48c1-a102-5258a19f6e43, root_mean_squared_error=6.66513\n",
      "INFO: Scored pipeline id=71502d01-6edb-401b-ae43-b918777691ec, root_mean_squared_error=11.45735\n",
      "INFO: Scored pipeline id=67b56577-5e85-4979-9f2b-6e8a2943cfd5, root_mean_squared_error=7.35165\n",
      "INFO: Found pipeline id=b328d796-1e1c-4c43-9528-9665edc38b3d, time=0:02:07.692596, scoring...\n",
      "INFO: Scored pipeline id=49f52617-3e52-4519-b451-557edbf42d2a, root_mean_squared_error=7.42531\n",
      "INFO: Scored pipeline id=ec1253fe-7c4c-4f9f-ad4b-b3503f4a74be, root_mean_squared_error=9.01936\n",
      "INFO: Scored pipeline id=b328d796-1e1c-4c43-9528-9665edc38b3d, root_mean_squared_error=8.85913\n",
      "INFO: Found pipeline id=d925c0fc-353d-447b-9c66-9e4238b564cc, time=0:02:59.060859, scoring...\n",
      "INFO: Scored pipeline id=d925c0fc-353d-447b-9c66-9e4238b564cc, root_mean_squared_error=19.01922\n",
      "INFO: Found pipeline id=a8809584-236d-4a03-980f-c0de9bd2b5dc, time=0:03:26.267298, scoring...\n",
      "INFO: Found pipeline id=3e8f3a01-da88-4540-9d9b-be01ffd72cc1, time=0:03:44.497119, scoring...\n",
      "INFO: Scored pipeline id=a8809584-236d-4a03-980f-c0de9bd2b5dc, root_mean_squared_error=83.84514\n",
      "INFO: Scored pipeline id=3e8f3a01-da88-4540-9d9b-be01ffd72cc1, root_mean_squared_error=49.08392\n",
      "INFO: Found pipeline id=2a466ea1-ddfd-4671-a6e0-679b9fa73f06, time=0:04:20.878514, scoring...\n",
      "INFO: Scored pipeline id=2a466ea1-ddfd-4671-a6e0-679b9fa73f06, root_mean_squared_error=9.50749\n",
      "INFO: Found pipeline id=7047edcb-6a88-4513-b406-d200a7278d26, time=0:04:57.109876, scoring...\n",
      "INFO: Search completed, still scoring some pending pipelines...\n",
      "INFO: Scored pipeline id=7047edcb-6a88-4513-b406-d200a7278d26, root_mean_squared_error=15.83119\n",
      "INFO: Scoring completed for all pipelines!\n"
     ]
    }
   ],
   "source": [
    "automl_datamart = AutoML(output_path)\n",
    "automl_datamart.search_pipelines(augmented_dataset, time_bound=5, target='Malnutrition_total Cases', task_keywords=['regression'])"
   ]
  },
  {
   "cell_type": "markdown",
   "metadata": {},
   "source": [
    "### Visualizing pipelines using Pipeline Profiler"
   ]
  },
  {
   "cell_type": "code",
   "execution_count": 18,
   "metadata": {},
   "outputs": [
    {
     "name": "stdout",
     "output_type": "stream",
     "text": [
      "INFO: Inputs for PipelineProfiler created!\n",
      "INFO: Inputs for PipelineProfiler created!\n"
     ]
    }
   ],
   "source": [
    "without_datamart = automl.create_pipelineprofiler_inputs()\n",
    "with_datamart = automl_datamart.create_pipelineprofiler_inputs(source_name='AlphaD3M_AUG')"
   ]
  },
  {
   "cell_type": "markdown",
   "metadata": {},
   "source": [
    "To explore the produced pipelines by both one using datamart and the other without using it, we can use [PipelineProfiler](https://github.com/VIDA-NYU/PipelineVis). PipelineProfiler is a visualization that enables users to compare and explore the pipelines generated by the AutoML systems.\n",
    "\n",
    "After the pipeline search process is completed, we can use PipelineProfiler with:"
   ]
  },
  {
   "cell_type": "code",
   "execution_count": null,
   "metadata": {
    "scrolled": false
   },
   "outputs": [],
   "source": [
    "automl_datamart.plot_comparison_pipelines(precomputed_pipelines=without_datamart+with_datamart)"
   ]
  },
  {
   "cell_type": "markdown",
   "metadata": {},
   "source": [
    "After the analysis is complete, end the session to stop the process and clean up temporary files:"
   ]
  },
  {
   "cell_type": "code",
   "execution_count": 20,
   "metadata": {},
   "outputs": [
    {
     "name": "stdout",
     "output_type": "stream",
     "text": [
      "INFO: Ending session...\n",
      "INFO: Session ended!\n"
     ]
    }
   ],
   "source": [
    "automl.end_session()\n",
    "automl_datamart.end_session()"
   ]
  }
 ],
 "metadata": {
  "kernelspec": {
   "display_name": "Python 3",
   "language": "python",
   "name": "python3"
  },
  "language_info": {
   "codemirror_mode": {
    "name": "ipython",
    "version": 3
   },
   "file_extension": ".py",
   "mimetype": "text/x-python",
   "name": "python",
   "nbconvert_exporter": "python",
   "pygments_lexer": "ipython3",
   "version": "3.7.4"
  }
 },
 "nbformat": 4,
 "nbformat_minor": 2
}
